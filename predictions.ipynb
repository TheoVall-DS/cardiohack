{
 "cells": [
  {
   "cell_type": "code",
   "execution_count": 39,
   "id": "ae537f53",
   "metadata": {},
   "outputs": [],
   "source": [
    "import glob\n",
    "\n",
    "import numpy as np\n",
    "import pandas as pd\n",
    "from keras.models import load_model\n",
    "\n",
    "from tqdm import tqdm\n",
    "\n",
    "from model_tools import CNNModel\n",
    "from preprocessing_tools import read_data, Preprocessor"
   ]
  },
  {
   "cell_type": "code",
   "execution_count": 4,
   "id": "a3f9ed7b",
   "metadata": {},
   "outputs": [],
   "source": [
    "file_names = [file + '\\ECG.txt' for file in glob.glob('test_data/*')]"
   ]
  },
  {
   "cell_type": "code",
   "execution_count": 13,
   "id": "a697bb67",
   "metadata": {},
   "outputs": [
    {
     "name": "stderr",
     "output_type": "stream",
     "text": [
      "100%|████████████████████████████████████████████████████████████████████████████████████| 7/7 [00:08<00:00,  1.27s/it]\n"
     ]
    },
    {
     "name": "stdout",
     "output_type": "stream",
     "text": [
      "2669/2669 [==============================] - 12s 4ms/step\n",
      "2669/2669 [==============================] - 12s 5ms/step\n",
      "2669/2669 [==============================] - 12s 4ms/step\n",
      "2669/2669 [==============================] - 12s 4ms/step\n",
      "2669/2669 [==============================] - 12s 4ms/step\n",
      "2669/2669 [==============================] - 12s 4ms/step\n",
      "2669/2669 [==============================] - 12s 4ms/step\n"
     ]
    },
    {
     "name": "stderr",
     "output_type": "stream",
     "text": [
      "100%|████████████████████████████████████████████████████████████████████████████████████| 7/7 [00:08<00:00,  1.26s/it]\n"
     ]
    },
    {
     "name": "stdout",
     "output_type": "stream",
     "text": [
      "2708/2708 [==============================] - 13s 5ms/step\n",
      "2708/2708 [==============================] - 13s 5ms/step\n",
      "2708/2708 [==============================] - 12s 4ms/step\n",
      "2708/2708 [==============================] - 12s 4ms/step\n",
      "2708/2708 [==============================] - 12s 4ms/step\n",
      "2708/2708 [==============================] - 12s 4ms/step\n",
      "2708/2708 [==============================] - 11s 4ms/step\n"
     ]
    },
    {
     "name": "stderr",
     "output_type": "stream",
     "text": [
      "100%|████████████████████████████████████████████████████████████████████████████████████| 7/7 [00:09<00:00,  1.31s/it]\n"
     ]
    },
    {
     "name": "stdout",
     "output_type": "stream",
     "text": [
      "2724/2724 [==============================] - 11s 4ms/step\n",
      "2724/2724 [==============================] - 12s 5ms/step\n",
      "2724/2724 [==============================] - 12s 5ms/step\n",
      "2724/2724 [==============================] - 13s 5ms/step\n",
      "2724/2724 [==============================] - 12s 5ms/step\n",
      "2724/2724 [==============================] - 12s 5ms/step\n",
      "2724/2724 [==============================] - 12s 4ms/step\n"
     ]
    }
   ],
   "source": [
    "model_dct = {\n",
    "    lead: load_model(f'models/{lead}') for lead in ['i', 'ii', 'v5', 'iii', 'avr', 'avl', 'avf']\n",
    "}\n",
    "predict_dct = {}\n",
    "predict_files = ['5849', '6479', '8555']\n",
    "\n",
    "# проход по файлам\n",
    "for idx, file_name in enumerate(file_names):\n",
    "    ecg, _ = read_data(file_name)\n",
    "    predict_dct[predict_files[idx]] = {\n",
    "        lead: np.empty(len(ecg)) for lead in ['i', 'ii', 'v5', 'iii', 'avr', 'avl', 'avf']\n",
    "    }\n",
    "    \n",
    "    preprocessor = Preprocessor()\n",
    "    lead_dct = preprocessor.preprocess_unseen(ecg)\n",
    "    \n",
    "    # проход по отдельным моделям для каждого овтедения\n",
    "    for lead in ['i', 'ii', 'v5', 'iii', 'avr', 'avl', 'avf']:\n",
    "        X = lead_dct[lead].reshape(lead_dct[lead].shape[0], lead_dct[lead].shape[1], 1)\n",
    "        predicts = model_dct[lead].predict(X)[:, 1]\n",
    "        \n",
    "        prev_row = 0\n",
    "        idx_arr = np.arange(len(ecg), step=266) + 1330\n",
    "        idx_arr = idx_arr[:len(predicts)]\n",
    "        idx_arr[-1] = len(ecg)\n",
    "        \n",
    "        # проход по окнам в 1 секунду и назначение лейблов (1 - бигеминия, 0 - ничего/другое)\n",
    "        for i, row in enumerate(idx_arr):\n",
    "            predict_dct[predict_files[idx]][lead][prev_row:row] = predicts[i]\n",
    "            prev_row = row"
   ]
  },
  {
   "cell_type": "code",
   "execution_count": 41,
   "id": "6b5e979c",
   "metadata": {},
   "outputs": [],
   "source": [
    "for file in predict_files:\n",
    "    lead_labels = np.empty(shape=(len(predict_dct[file]['i']), 0))\n",
    "    \n",
    "    # финальный ансамбль из 7 нейросетей по каждому отведению\n",
    "    for lead in ['i', 'ii', 'v5', 'iii', 'avr', 'avl', 'avf']:\n",
    "        lead_labels = np.hstack((np.round(predict_dct[file][lead]).reshape(-1, 1), lead_labels))\n",
    "        \n",
    "    final_preds = np.max(lead_labels, axis=1).astype(np.int8)\n",
    "    pd.Series(final_preds).to_csv(f'test_labels/{file}.csv', index=False)"
   ]
  },
  {
   "cell_type": "code",
   "execution_count": 49,
   "id": "12a7107a",
   "metadata": {},
   "outputs": [
    {
     "data": {
      "text/html": [
       "<div>\n",
       "<style scoped>\n",
       "    .dataframe tbody tr th:only-of-type {\n",
       "        vertical-align: middle;\n",
       "    }\n",
       "\n",
       "    .dataframe tbody tr th {\n",
       "        vertical-align: top;\n",
       "    }\n",
       "\n",
       "    .dataframe thead th {\n",
       "        text-align: right;\n",
       "    }\n",
       "</style>\n",
       "<table border=\"1\" class=\"dataframe\">\n",
       "  <thead>\n",
       "    <tr style=\"text-align: right;\">\n",
       "      <th></th>\n",
       "      <th>0</th>\n",
       "    </tr>\n",
       "  </thead>\n",
       "  <tbody>\n",
       "    <tr>\n",
       "      <th>0</th>\n",
       "      <td>0</td>\n",
       "    </tr>\n",
       "    <tr>\n",
       "      <th>1</th>\n",
       "      <td>0</td>\n",
       "    </tr>\n",
       "    <tr>\n",
       "      <th>2</th>\n",
       "      <td>0</td>\n",
       "    </tr>\n",
       "    <tr>\n",
       "      <th>3</th>\n",
       "      <td>0</td>\n",
       "    </tr>\n",
       "    <tr>\n",
       "      <th>4</th>\n",
       "      <td>0</td>\n",
       "    </tr>\n",
       "    <tr>\n",
       "      <th>...</th>\n",
       "      <td>...</td>\n",
       "    </tr>\n",
       "    <tr>\n",
       "      <th>22717635</th>\n",
       "      <td>0</td>\n",
       "    </tr>\n",
       "    <tr>\n",
       "      <th>22717636</th>\n",
       "      <td>0</td>\n",
       "    </tr>\n",
       "    <tr>\n",
       "      <th>22717637</th>\n",
       "      <td>0</td>\n",
       "    </tr>\n",
       "    <tr>\n",
       "      <th>22717638</th>\n",
       "      <td>0</td>\n",
       "    </tr>\n",
       "    <tr>\n",
       "      <th>22717639</th>\n",
       "      <td>0</td>\n",
       "    </tr>\n",
       "  </tbody>\n",
       "</table>\n",
       "<p>22717640 rows × 1 columns</p>\n",
       "</div>"
      ],
      "text/plain": [
       "          0\n",
       "0         0\n",
       "1         0\n",
       "2         0\n",
       "3         0\n",
       "4         0\n",
       "...      ..\n",
       "22717635  0\n",
       "22717636  0\n",
       "22717637  0\n",
       "22717638  0\n",
       "22717639  0\n",
       "\n",
       "[22717640 rows x 1 columns]"
      ]
     },
     "execution_count": 49,
     "metadata": {},
     "output_type": "execute_result"
    }
   ],
   "source": [
    "labels_5849 = pd.read_csv('test_labels/5849.csv')\n",
    "labels_5849"
   ]
  },
  {
   "cell_type": "code",
   "execution_count": null,
   "id": "5dbd5714",
   "metadata": {},
   "outputs": [],
   "source": []
  }
 ],
 "metadata": {
  "kernelspec": {
   "display_name": "Python 3 (ipykernel)",
   "language": "python",
   "name": "python3"
  },
  "language_info": {
   "codemirror_mode": {
    "name": "ipython",
    "version": 3
   },
   "file_extension": ".py",
   "mimetype": "text/x-python",
   "name": "python",
   "nbconvert_exporter": "python",
   "pygments_lexer": "ipython3",
   "version": "3.9.13"
  }
 },
 "nbformat": 4,
 "nbformat_minor": 5
}
