{
 "cells": [
  {
   "cell_type": "code",
   "execution_count": 22,
   "id": "afe984b0",
   "metadata": {},
   "outputs": [],
   "source": [
    "import glob\n",
    "import pickle\n",
    "\n",
    "import numpy as np\n",
    "import pandas as pd\n",
    "\n",
    "from preprocessing_tools import read_data, Preprocessor\n",
    "\n",
    "from tqdm import tqdm"
   ]
  },
  {
   "cell_type": "code",
   "execution_count": 23,
   "id": "1fa79cae",
   "metadata": {},
   "outputs": [],
   "source": [
    "ecg_names = [file + '\\ECG.txt' for file in glob.glob('train_data/*') if file[-4:] != '8805']\n",
    "dataset_names = [file + '\\dataset.xlsx' for file in glob.glob('train_data/*') if file[-4:] != '8805']"
   ]
  },
  {
   "cell_type": "code",
   "execution_count": 24,
   "id": "ea960169",
   "metadata": {},
   "outputs": [
    {
     "name": "stdout",
     "output_type": "stream",
     "text": [
      "Preprocessing train_data\\10156\\ECG.txt and train_data\\10156\\dataset.xlsx\n"
     ]
    },
    {
     "name": "stderr",
     "output_type": "stream",
     "text": [
      "100%|████████████████████████████████████████████████████████████████████████████████████| 7/7 [00:47<00:00,  6.83s/it]\n"
     ]
    },
    {
     "name": "stdout",
     "output_type": "stream",
     "text": [
      "\n",
      "Preprocessing train_data\\5722\\ECG.txt and train_data\\5722\\dataset.xlsx\n"
     ]
    },
    {
     "name": "stderr",
     "output_type": "stream",
     "text": [
      "100%|████████████████████████████████████████████████████████████████████████████████████| 7/7 [00:54<00:00,  7.78s/it]\n"
     ]
    },
    {
     "name": "stdout",
     "output_type": "stream",
     "text": [
      "\n",
      "Preprocessing train_data\\5947\\ECG.txt and train_data\\5947\\dataset.xlsx\n"
     ]
    },
    {
     "name": "stderr",
     "output_type": "stream",
     "text": [
      "100%|████████████████████████████████████████████████████████████████████████████████████| 7/7 [00:55<00:00,  7.95s/it]\n"
     ]
    },
    {
     "name": "stdout",
     "output_type": "stream",
     "text": [
      "\n",
      "Preprocessing train_data\\7743\\ECG.txt and train_data\\7743\\dataset.xlsx\n"
     ]
    },
    {
     "name": "stderr",
     "output_type": "stream",
     "text": [
      "100%|████████████████████████████████████████████████████████████████████████████████████| 7/7 [01:07<00:00,  9.57s/it]\n"
     ]
    },
    {
     "name": "stdout",
     "output_type": "stream",
     "text": [
      "\n",
      "Preprocessing train_data\\7916\\ECG.txt and train_data\\7916\\dataset.xlsx\n"
     ]
    },
    {
     "name": "stderr",
     "output_type": "stream",
     "text": [
      "100%|████████████████████████████████████████████████████████████████████████████████████| 7/7 [01:05<00:00,  9.33s/it]\n"
     ]
    },
    {
     "name": "stdout",
     "output_type": "stream",
     "text": [
      "\n",
      "Preprocessing train_data\\8088\\ECG.txt and train_data\\8088\\dataset.xlsx\n"
     ]
    },
    {
     "name": "stderr",
     "output_type": "stream",
     "text": [
      "100%|████████████████████████████████████████████████████████████████████████████████████| 7/7 [01:07<00:00,  9.58s/it]\n"
     ]
    },
    {
     "name": "stdout",
     "output_type": "stream",
     "text": [
      "\n",
      "Preprocessing train_data\\8610\\ECG.txt and train_data\\8610\\dataset.xlsx\n"
     ]
    },
    {
     "name": "stderr",
     "output_type": "stream",
     "text": [
      "100%|████████████████████████████████████████████████████████████████████████████████████| 7/7 [00:52<00:00,  7.45s/it]\n"
     ]
    },
    {
     "name": "stdout",
     "output_type": "stream",
     "text": [
      "\n",
      "Preprocessing train_data\\8644\\ECG.txt and train_data\\8644\\dataset.xlsx\n"
     ]
    },
    {
     "name": "stderr",
     "output_type": "stream",
     "text": [
      "100%|████████████████████████████████████████████████████████████████████████████████████| 7/7 [00:31<00:00,  4.56s/it]\n"
     ]
    },
    {
     "name": "stdout",
     "output_type": "stream",
     "text": [
      "\n",
      "Preprocessing train_data\\8773\\ECG.txt and train_data\\8773\\dataset.xlsx\n"
     ]
    },
    {
     "name": "stderr",
     "output_type": "stream",
     "text": [
      "100%|████████████████████████████████████████████████████████████████████████████████████| 7/7 [01:00<00:00,  8.69s/it]\n"
     ]
    },
    {
     "name": "stdout",
     "output_type": "stream",
     "text": [
      "\n",
      "Preprocessing train_data\\9128\\ECG.txt and train_data\\9128\\dataset.xlsx\n"
     ]
    },
    {
     "name": "stderr",
     "output_type": "stream",
     "text": [
      "100%|████████████████████████████████████████████████████████████████████████████████████| 7/7 [00:44<00:00,  6.31s/it]\n"
     ]
    },
    {
     "name": "stdout",
     "output_type": "stream",
     "text": [
      "\n",
      "Preprocessing train_data\\9359\\ECG.txt and train_data\\9359\\dataset.xlsx\n"
     ]
    },
    {
     "name": "stderr",
     "output_type": "stream",
     "text": [
      "100%|████████████████████████████████████████████████████████████████████████████████████| 7/7 [01:06<00:00,  9.48s/it]\n"
     ]
    },
    {
     "name": "stdout",
     "output_type": "stream",
     "text": [
      "\n",
      "Preprocessing train_data\\9677\\ECG.txt and train_data\\9677\\dataset.xlsx\n"
     ]
    },
    {
     "name": "stderr",
     "output_type": "stream",
     "text": [
      "100%|████████████████████████████████████████████████████████████████████████████████████| 7/7 [00:59<00:00,  8.50s/it]\n"
     ]
    },
    {
     "name": "stdout",
     "output_type": "stream",
     "text": [
      "\n",
      "Preprocessing train_data\\9774\\ECG.txt and train_data\\9774\\dataset.xlsx\n"
     ]
    },
    {
     "name": "stderr",
     "output_type": "stream",
     "text": [
      "100%|████████████████████████████████████████████████████████████████████████████████████| 7/7 [00:42<00:00,  6.08s/it]\n"
     ]
    },
    {
     "name": "stdout",
     "output_type": "stream",
     "text": [
      "\n"
     ]
    }
   ],
   "source": [
    "for idx, ecg_name, dataset_name in zip(np.arange(13), ecg_names, dataset_names):\n",
    "    print(f'Preprocessing {ecg_name} and {dataset_name}')\n",
    "    pandas_ecg, pandas_desc = read_data(ecg=ecg_name, desc=dataset_name)\n",
    "    preprocessor = Preprocessor()\n",
    "    lead_dct = preprocessor.preprocess(pandas_ecg, pandas_desc)\n",
    "    \n",
    "    with open(f'preprocessed_data/train_set_{idx}.pkl', 'wb') as f:\n",
    "        pickle.dump(lead_dct, f)\n",
    "        \n",
    "    print()"
   ]
  },
  {
   "cell_type": "code",
   "execution_count": 31,
   "id": "908bf8a5",
   "metadata": {},
   "outputs": [
    {
     "name": "stderr",
     "output_type": "stream",
     "text": [
      "100%|████████████████████████████████████████████████████████████████████████████████████| 7/7 [01:34<00:00, 13.44s/it]\n"
     ]
    }
   ],
   "source": [
    "pandas_ecg_a, pandas_desc = read_data(\n",
    "    ecg=f'train_data/8805/ECG1.txt', desc='train_data/8805/dataset.xlsx'\n",
    ")\n",
    "pandas_ecg_b, pandas_desc = read_data(\n",
    "    ecg=f'train_data/8805/ECG2.txt', desc='train_data/8805/dataset.xlsx'\n",
    ")\n",
    "\n",
    "pandas_ecg_combined = pd.concat([pandas_ecg_a, pandas_ecg_b])\n",
    "preprocessor = Preprocessor()\n",
    "lead_dct = preprocessor.preprocess(pandas_ecg_combined, pandas_desc)\n",
    "\n",
    "with open('preprocessed_data/train_set_13.pkl', 'wb') as f:\n",
    "    pickle.dump(lead_dct, f)"
   ]
  },
  {
   "cell_type": "code",
   "execution_count": 32,
   "id": "60a60a0f",
   "metadata": {},
   "outputs": [
    {
     "name": "stderr",
     "output_type": "stream",
     "text": [
      "100%|██████████████████████████████████████████████████████████████████████████████████| 14/14 [00:10<00:00,  1.37it/s]\n",
      "100%|██████████████████████████████████████████████████████████████████████████████████| 14/14 [00:09<00:00,  1.55it/s]\n",
      "100%|██████████████████████████████████████████████████████████████████████████████████| 14/14 [00:09<00:00,  1.53it/s]\n",
      "100%|██████████████████████████████████████████████████████████████████████████████████| 14/14 [00:09<00:00,  1.55it/s]\n",
      "100%|██████████████████████████████████████████████████████████████████████████████████| 14/14 [00:09<00:00,  1.55it/s]\n",
      "100%|██████████████████████████████████████████████████████████████████████████████████| 14/14 [00:09<00:00,  1.54it/s]\n",
      "100%|██████████████████████████████████████████████████████████████████████████████████| 14/14 [00:09<00:00,  1.51it/s]\n"
     ]
    }
   ],
   "source": [
    "for lead in ['i', 'ii', 'v5', 'iii', 'avl', 'avr', 'avf']:\n",
    "    full_train_X = np.empty(shape=(0, 1330))\n",
    "    for i in tqdm(range(14)):\n",
    "        with open(f'preprocessed_data/train_set_{i}.pkl', 'rb') as f:\n",
    "            dct = pickle.load(f)\n",
    "            \n",
    "        full_train_X = np.vstack((full_train_X, dct[lead]))\n",
    "    \n",
    "    with open(f'preprocessed_data/full_train_{lead}.pkl', 'wb') as f:\n",
    "        pickle.dump(full_train_X, f)"
   ]
  },
  {
   "cell_type": "code",
   "execution_count": 33,
   "id": "598cca35",
   "metadata": {},
   "outputs": [
    {
     "name": "stderr",
     "output_type": "stream",
     "text": [
      "100%|██████████████████████████████████████████████████████████████████████████████████| 14/14 [00:05<00:00,  2.49it/s]\n"
     ]
    }
   ],
   "source": [
    "full_train_y = np.empty(shape=0)\n",
    "for i in tqdm(range(14)):\n",
    "    with open(f'preprocessed_data/train_set_{i}.pkl', 'rb') as f:\n",
    "        dct = pickle.load(f)\n",
    "        \n",
    "    full_train_y = np.hstack((full_train_y, dct['y']))\n",
    "            \n",
    "with open(f'preprocessed_data/full_train_y.pkl', 'wb') as f:\n",
    "    pickle.dump(full_train_y, f)"
   ]
  },
  {
   "cell_type": "code",
   "execution_count": null,
   "id": "1313307b",
   "metadata": {},
   "outputs": [],
   "source": []
  }
 ],
 "metadata": {
  "kernelspec": {
   "display_name": "Python 3 (ipykernel)",
   "language": "python",
   "name": "python3"
  },
  "language_info": {
   "codemirror_mode": {
    "name": "ipython",
    "version": 3
   },
   "file_extension": ".py",
   "mimetype": "text/x-python",
   "name": "python",
   "nbconvert_exporter": "python",
   "pygments_lexer": "ipython3",
   "version": "3.9.13"
  }
 },
 "nbformat": 4,
 "nbformat_minor": 5
}
