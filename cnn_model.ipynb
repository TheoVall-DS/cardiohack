{
 "cells": [
  {
   "cell_type": "code",
   "execution_count": 1,
   "id": "6fa7e5f2",
   "metadata": {},
   "outputs": [],
   "source": [
    "import pickle\n",
    "\n",
    "import numpy as np\n",
    "\n",
    "from sklearn.preprocessing import OneHotEncoder\n",
    "from sklearn.model_selection import train_test_split\n",
    "\n",
    "from model_tools import CNNModel\n",
    "from preprocessing_tools import resample_ts"
   ]
  },
  {
   "cell_type": "code",
   "execution_count": 4,
   "id": "70abd182",
   "metadata": {},
   "outputs": [
    {
     "name": "stdout",
     "output_type": "stream",
     "text": [
      "OHE categories: [array([0., 1.])]\n",
      "Augmented data shape (390298, 1330, 1)\n",
      "Model: \"sequential\"\n",
      "_________________________________________________________________\n",
      " Layer (type)                Output Shape              Param #   \n",
      "=================================================================\n",
      " conv1d (Conv1D)             (390298, 1321, 16)        176       \n",
      "                                                                 \n",
      " max_pooling1d (MaxPooling1D  (390298, 264, 16)        0         \n",
      " )                                                               \n",
      "                                                                 \n",
      " conv1d_1 (Conv1D)           (390298, 255, 32)         5152      \n",
      "                                                                 \n",
      " max_pooling1d_1 (MaxPooling  (390298, 25, 32)         0         \n",
      " 1D)                                                             \n",
      "                                                                 \n",
      " conv1d_2 (Conv1D)           (390298, 16, 64)          20544     \n",
      "                                                                 \n",
      " max_pooling1d_2 (MaxPooling  (390298, 1, 64)          0         \n",
      " 1D)                                                             \n",
      "                                                                 \n",
      " dropout (Dropout)           (390298, 1, 64)           0         \n",
      "                                                                 \n",
      " flatten (Flatten)           (390298, 64)              0         \n",
      "                                                                 \n",
      " dense (Dense)               (390298, 128)             8320      \n",
      "                                                                 \n",
      " dense_1 (Dense)             (390298, 2)               258       \n",
      "                                                                 \n",
      "=================================================================\n",
      "Total params: 34,450\n",
      "Trainable params: 34,450\n",
      "Non-trainable params: 0\n",
      "_________________________________________________________________\n",
      "Epoch 1/5\n",
      "3050/3050 [==============================] - 88s 29ms/step - loss: 0.0331 - f1_score: 0.9878\n",
      "Epoch 2/5\n",
      "3050/3050 [==============================] - 91s 30ms/step - loss: 0.0129 - f1_score: 0.9957\n",
      "Epoch 3/5\n",
      "3050/3050 [==============================] - 98s 32ms/step - loss: 0.0098 - f1_score: 0.9966\n",
      "Epoch 4/5\n",
      "3050/3050 [==============================] - 96s 31ms/step - loss: 0.0080 - f1_score: 0.9972\n",
      "Epoch 5/5\n",
      "3050/3050 [==============================] - 97s 32ms/step - loss: 0.0071 - f1_score: 0.9976\n"
     ]
    },
    {
     "name": "stderr",
     "output_type": "stream",
     "text": [
      "WARNING:absl:Found untraced functions such as _jit_compiled_convolution_op, _jit_compiled_convolution_op, _jit_compiled_convolution_op while saving (showing 3 of 3). These functions will not be directly callable after loading.\n"
     ]
    },
    {
     "name": "stdout",
     "output_type": "stream",
     "text": [
      "INFO:tensorflow:Assets written to: models/i\\assets\n"
     ]
    },
    {
     "name": "stderr",
     "output_type": "stream",
     "text": [
      "INFO:tensorflow:Assets written to: models/i\\assets\n"
     ]
    },
    {
     "name": "stdout",
     "output_type": "stream",
     "text": [
      "OHE categories: [array([0., 1.])]\n",
      "Augmented data shape (390298, 1330, 1)\n",
      "Model: \"sequential_1\"\n",
      "_________________________________________________________________\n",
      " Layer (type)                Output Shape              Param #   \n",
      "=================================================================\n",
      " conv1d_3 (Conv1D)           (390298, 1321, 16)        176       \n",
      "                                                                 \n",
      " max_pooling1d_3 (MaxPooling  (390298, 264, 16)        0         \n",
      " 1D)                                                             \n",
      "                                                                 \n",
      " conv1d_4 (Conv1D)           (390298, 255, 32)         5152      \n",
      "                                                                 \n",
      " max_pooling1d_4 (MaxPooling  (390298, 25, 32)         0         \n",
      " 1D)                                                             \n",
      "                                                                 \n",
      " conv1d_5 (Conv1D)           (390298, 16, 64)          20544     \n",
      "                                                                 \n",
      " max_pooling1d_5 (MaxPooling  (390298, 1, 64)          0         \n",
      " 1D)                                                             \n",
      "                                                                 \n",
      " dropout_1 (Dropout)         (390298, 1, 64)           0         \n",
      "                                                                 \n",
      " flatten_1 (Flatten)         (390298, 64)              0         \n",
      "                                                                 \n",
      " dense_2 (Dense)             (390298, 128)             8320      \n",
      "                                                                 \n",
      " dense_3 (Dense)             (390298, 2)               258       \n",
      "                                                                 \n",
      "=================================================================\n",
      "Total params: 34,450\n",
      "Trainable params: 34,450\n",
      "Non-trainable params: 0\n",
      "_________________________________________________________________\n",
      "Epoch 1/5\n",
      "3050/3050 [==============================] - 84s 27ms/step - loss: 0.0227 - f1_score: 0.9922\n",
      "Epoch 2/5\n",
      "3050/3050 [==============================] - 83s 27ms/step - loss: 0.0071 - f1_score: 0.9975\n",
      "Epoch 3/5\n",
      "3050/3050 [==============================] - 83s 27ms/step - loss: 0.0048 - f1_score: 0.9982\n",
      "Epoch 4/5\n",
      "3050/3050 [==============================] - 83s 27ms/step - loss: 0.0040 - f1_score: 0.9986\n",
      "Epoch 5/5\n",
      "3050/3050 [==============================] - 83s 27ms/step - loss: 0.0032 - f1_score: 0.9988\n"
     ]
    },
    {
     "name": "stderr",
     "output_type": "stream",
     "text": [
      "WARNING:absl:Found untraced functions such as _jit_compiled_convolution_op, _jit_compiled_convolution_op, _jit_compiled_convolution_op while saving (showing 3 of 3). These functions will not be directly callable after loading.\n"
     ]
    },
    {
     "name": "stdout",
     "output_type": "stream",
     "text": [
      "INFO:tensorflow:Assets written to: models/ii\\assets\n"
     ]
    },
    {
     "name": "stderr",
     "output_type": "stream",
     "text": [
      "INFO:tensorflow:Assets written to: models/ii\\assets\n"
     ]
    },
    {
     "name": "stdout",
     "output_type": "stream",
     "text": [
      "OHE categories: [array([0., 1.])]\n",
      "Augmented data shape (390298, 1330, 1)\n",
      "Model: \"sequential_2\"\n",
      "_________________________________________________________________\n",
      " Layer (type)                Output Shape              Param #   \n",
      "=================================================================\n",
      " conv1d_6 (Conv1D)           (390298, 1321, 16)        176       \n",
      "                                                                 \n",
      " max_pooling1d_6 (MaxPooling  (390298, 264, 16)        0         \n",
      " 1D)                                                             \n",
      "                                                                 \n",
      " conv1d_7 (Conv1D)           (390298, 255, 32)         5152      \n",
      "                                                                 \n",
      " max_pooling1d_7 (MaxPooling  (390298, 25, 32)         0         \n",
      " 1D)                                                             \n",
      "                                                                 \n",
      " conv1d_8 (Conv1D)           (390298, 16, 64)          20544     \n",
      "                                                                 \n",
      " max_pooling1d_8 (MaxPooling  (390298, 1, 64)          0         \n",
      " 1D)                                                             \n",
      "                                                                 \n",
      " dropout_2 (Dropout)         (390298, 1, 64)           0         \n",
      "                                                                 \n",
      " flatten_2 (Flatten)         (390298, 64)              0         \n",
      "                                                                 \n",
      " dense_4 (Dense)             (390298, 128)             8320      \n",
      "                                                                 \n",
      " dense_5 (Dense)             (390298, 2)               258       \n",
      "                                                                 \n",
      "=================================================================\n",
      "Total params: 34,450\n",
      "Trainable params: 34,450\n",
      "Non-trainable params: 0\n",
      "_________________________________________________________________\n",
      "Epoch 1/5\n",
      "3050/3050 [==============================] - 99s 32ms/step - loss: 0.0227 - f1_score: 0.9922\n",
      "Epoch 2/5\n",
      "3050/3050 [==============================] - 97s 32ms/step - loss: 0.0078 - f1_score: 0.9975\n",
      "Epoch 3/5\n",
      "3050/3050 [==============================] - 97s 32ms/step - loss: 0.0052 - f1_score: 0.9983\n",
      "Epoch 4/5\n",
      "3050/3050 [==============================] - 98s 32ms/step - loss: 0.0042 - f1_score: 0.9986\n",
      "Epoch 5/5\n",
      "3050/3050 [==============================] - 97s 32ms/step - loss: 0.0032 - f1_score: 0.9989\n"
     ]
    },
    {
     "name": "stderr",
     "output_type": "stream",
     "text": [
      "WARNING:absl:Found untraced functions such as _jit_compiled_convolution_op, _jit_compiled_convolution_op, _jit_compiled_convolution_op while saving (showing 3 of 3). These functions will not be directly callable after loading.\n"
     ]
    },
    {
     "name": "stdout",
     "output_type": "stream",
     "text": [
      "INFO:tensorflow:Assets written to: models/v5\\assets\n"
     ]
    },
    {
     "name": "stderr",
     "output_type": "stream",
     "text": [
      "INFO:tensorflow:Assets written to: models/v5\\assets\n"
     ]
    },
    {
     "name": "stdout",
     "output_type": "stream",
     "text": [
      "OHE categories: [array([0., 1.])]\n",
      "Augmented data shape (390298, 1330, 1)\n",
      "Model: \"sequential_3\"\n",
      "_________________________________________________________________\n",
      " Layer (type)                Output Shape              Param #   \n",
      "=================================================================\n",
      " conv1d_9 (Conv1D)           (390298, 1321, 16)        176       \n",
      "                                                                 \n",
      " max_pooling1d_9 (MaxPooling  (390298, 264, 16)        0         \n",
      " 1D)                                                             \n",
      "                                                                 \n",
      " conv1d_10 (Conv1D)          (390298, 255, 32)         5152      \n",
      "                                                                 \n",
      " max_pooling1d_10 (MaxPoolin  (390298, 25, 32)         0         \n",
      " g1D)                                                            \n",
      "                                                                 \n",
      " conv1d_11 (Conv1D)          (390298, 16, 64)          20544     \n",
      "                                                                 \n",
      " max_pooling1d_11 (MaxPoolin  (390298, 1, 64)          0         \n",
      " g1D)                                                            \n",
      "                                                                 \n",
      " dropout_3 (Dropout)         (390298, 1, 64)           0         \n",
      "                                                                 \n",
      " flatten_3 (Flatten)         (390298, 64)              0         \n",
      "                                                                 \n",
      " dense_6 (Dense)             (390298, 128)             8320      \n",
      "                                                                 \n",
      " dense_7 (Dense)             (390298, 2)               258       \n",
      "                                                                 \n",
      "=================================================================\n",
      "Total params: 34,450\n",
      "Trainable params: 34,450\n",
      "Non-trainable params: 0\n",
      "_________________________________________________________________\n",
      "Epoch 1/5\n",
      "3050/3050 [==============================] - 100s 32ms/step - loss: 0.0247 - f1_score: 0.9906\n",
      "Epoch 2/5\n",
      "3050/3050 [==============================] - 99s 32ms/step - loss: 0.0079 - f1_score: 0.9974\n",
      "Epoch 3/5\n",
      "3050/3050 [==============================] - 98s 32ms/step - loss: 0.0060 - f1_score: 0.9980\n",
      "Epoch 4/5\n",
      "3050/3050 [==============================] - 98s 32ms/step - loss: 0.0047 - f1_score: 0.9984\n",
      "Epoch 5/5\n",
      "3050/3050 [==============================] - 99s 32ms/step - loss: 0.0040 - f1_score: 0.9986\n"
     ]
    },
    {
     "name": "stderr",
     "output_type": "stream",
     "text": [
      "WARNING:absl:Found untraced functions such as _jit_compiled_convolution_op, _jit_compiled_convolution_op, _jit_compiled_convolution_op while saving (showing 3 of 3). These functions will not be directly callable after loading.\n"
     ]
    },
    {
     "name": "stdout",
     "output_type": "stream",
     "text": [
      "INFO:tensorflow:Assets written to: models/iii\\assets\n"
     ]
    },
    {
     "name": "stderr",
     "output_type": "stream",
     "text": [
      "INFO:tensorflow:Assets written to: models/iii\\assets\n"
     ]
    },
    {
     "name": "stdout",
     "output_type": "stream",
     "text": [
      "OHE categories: [array([0., 1.])]\n",
      "Augmented data shape (390298, 1330, 1)\n",
      "Model: \"sequential_4\"\n",
      "_________________________________________________________________\n",
      " Layer (type)                Output Shape              Param #   \n",
      "=================================================================\n",
      " conv1d_12 (Conv1D)          (390298, 1321, 16)        176       \n",
      "                                                                 \n",
      " max_pooling1d_12 (MaxPoolin  (390298, 264, 16)        0         \n",
      " g1D)                                                            \n",
      "                                                                 \n",
      " conv1d_13 (Conv1D)          (390298, 255, 32)         5152      \n",
      "                                                                 \n",
      " max_pooling1d_13 (MaxPoolin  (390298, 25, 32)         0         \n",
      " g1D)                                                            \n",
      "                                                                 \n",
      " conv1d_14 (Conv1D)          (390298, 16, 64)          20544     \n",
      "                                                                 \n",
      " max_pooling1d_14 (MaxPoolin  (390298, 1, 64)          0         \n",
      " g1D)                                                            \n",
      "                                                                 \n",
      " dropout_4 (Dropout)         (390298, 1, 64)           0         \n",
      "                                                                 \n",
      " flatten_4 (Flatten)         (390298, 64)              0         \n",
      "                                                                 \n",
      " dense_8 (Dense)             (390298, 128)             8320      \n",
      "                                                                 \n",
      " dense_9 (Dense)             (390298, 2)               258       \n",
      "                                                                 \n",
      "=================================================================\n",
      "Total params: 34,450\n",
      "Trainable params: 34,450\n",
      "Non-trainable params: 0\n",
      "_________________________________________________________________\n",
      "Epoch 1/5\n",
      "3050/3050 [==============================] - 100s 33ms/step - loss: 0.0234 - f1_score: 0.9915\n",
      "Epoch 2/5\n",
      "3050/3050 [==============================] - 98s 32ms/step - loss: 0.0076 - f1_score: 0.9975\n",
      "Epoch 3/5\n",
      "3050/3050 [==============================] - 104s 34ms/step - loss: 0.0051 - f1_score: 0.9983\n",
      "Epoch 4/5\n",
      "3050/3050 [==============================] - 105s 34ms/step - loss: 0.0042 - f1_score: 0.9986\n",
      "Epoch 5/5\n",
      "3050/3050 [==============================] - 107s 35ms/step - loss: 0.0036 - f1_score: 0.9988\n"
     ]
    },
    {
     "name": "stderr",
     "output_type": "stream",
     "text": [
      "WARNING:absl:Found untraced functions such as _jit_compiled_convolution_op, _jit_compiled_convolution_op, _jit_compiled_convolution_op while saving (showing 3 of 3). These functions will not be directly callable after loading.\n"
     ]
    },
    {
     "name": "stdout",
     "output_type": "stream",
     "text": [
      "INFO:tensorflow:Assets written to: models/avr\\assets\n"
     ]
    },
    {
     "name": "stderr",
     "output_type": "stream",
     "text": [
      "INFO:tensorflow:Assets written to: models/avr\\assets\n"
     ]
    },
    {
     "name": "stdout",
     "output_type": "stream",
     "text": [
      "OHE categories: [array([0., 1.])]\n",
      "Augmented data shape (390298, 1330, 1)\n",
      "Model: \"sequential_5\"\n",
      "_________________________________________________________________\n",
      " Layer (type)                Output Shape              Param #   \n",
      "=================================================================\n",
      " conv1d_15 (Conv1D)          (390298, 1321, 16)        176       \n",
      "                                                                 \n",
      " max_pooling1d_15 (MaxPoolin  (390298, 264, 16)        0         \n",
      " g1D)                                                            \n",
      "                                                                 \n",
      " conv1d_16 (Conv1D)          (390298, 255, 32)         5152      \n",
      "                                                                 \n",
      " max_pooling1d_16 (MaxPoolin  (390298, 25, 32)         0         \n",
      " g1D)                                                            \n",
      "                                                                 \n",
      " conv1d_17 (Conv1D)          (390298, 16, 64)          20544     \n",
      "                                                                 \n",
      " max_pooling1d_17 (MaxPoolin  (390298, 1, 64)          0         \n",
      " g1D)                                                            \n",
      "                                                                 \n",
      " dropout_5 (Dropout)         (390298, 1, 64)           0         \n",
      "                                                                 \n",
      " flatten_5 (Flatten)         (390298, 64)              0         \n",
      "                                                                 \n",
      " dense_10 (Dense)            (390298, 128)             8320      \n",
      "                                                                 \n",
      " dense_11 (Dense)            (390298, 2)               258       \n",
      "                                                                 \n",
      "=================================================================\n",
      "Total params: 34,450\n",
      "Trainable params: 34,450\n",
      "Non-trainable params: 0\n",
      "_________________________________________________________________\n",
      "Epoch 1/5\n",
      "3050/3050 [==============================] - 102s 33ms/step - loss: 0.0296 - f1_score: 0.9892\n",
      "Epoch 2/5\n",
      "3050/3050 [==============================] - 97s 32ms/step - loss: 0.0105 - f1_score: 0.9965\n",
      "Epoch 3/5\n",
      "3050/3050 [==============================] - 97s 32ms/step - loss: 0.0078 - f1_score: 0.9974\n",
      "Epoch 4/5\n",
      "3050/3050 [==============================] - 97s 32ms/step - loss: 0.0065 - f1_score: 0.9977\n",
      "Epoch 5/5\n",
      "3050/3050 [==============================] - 97s 32ms/step - loss: 0.0057 - f1_score: 0.9980\n"
     ]
    },
    {
     "name": "stderr",
     "output_type": "stream",
     "text": [
      "WARNING:absl:Found untraced functions such as _jit_compiled_convolution_op, _jit_compiled_convolution_op, _jit_compiled_convolution_op while saving (showing 3 of 3). These functions will not be directly callable after loading.\n"
     ]
    },
    {
     "name": "stdout",
     "output_type": "stream",
     "text": [
      "INFO:tensorflow:Assets written to: models/avl\\assets\n"
     ]
    },
    {
     "name": "stderr",
     "output_type": "stream",
     "text": [
      "INFO:tensorflow:Assets written to: models/avl\\assets\n"
     ]
    },
    {
     "name": "stdout",
     "output_type": "stream",
     "text": [
      "OHE categories: [array([0., 1.])]\n",
      "Augmented data shape (390298, 1330, 1)\n",
      "Model: \"sequential_6\"\n",
      "_________________________________________________________________\n",
      " Layer (type)                Output Shape              Param #   \n",
      "=================================================================\n",
      " conv1d_18 (Conv1D)          (390298, 1321, 16)        176       \n",
      "                                                                 \n",
      " max_pooling1d_18 (MaxPoolin  (390298, 264, 16)        0         \n",
      " g1D)                                                            \n",
      "                                                                 \n",
      " conv1d_19 (Conv1D)          (390298, 255, 32)         5152      \n",
      "                                                                 \n",
      " max_pooling1d_19 (MaxPoolin  (390298, 25, 32)         0         \n",
      " g1D)                                                            \n",
      "                                                                 \n",
      " conv1d_20 (Conv1D)          (390298, 16, 64)          20544     \n",
      "                                                                 \n",
      " max_pooling1d_20 (MaxPoolin  (390298, 1, 64)          0         \n",
      " g1D)                                                            \n",
      "                                                                 \n",
      " dropout_6 (Dropout)         (390298, 1, 64)           0         \n",
      "                                                                 \n",
      " flatten_6 (Flatten)         (390298, 64)              0         \n",
      "                                                                 \n",
      " dense_12 (Dense)            (390298, 128)             8320      \n",
      "                                                                 \n",
      " dense_13 (Dense)            (390298, 2)               258       \n",
      "                                                                 \n",
      "=================================================================\n",
      "Total params: 34,450\n",
      "Trainable params: 34,450\n",
      "Non-trainable params: 0\n",
      "_________________________________________________________________\n",
      "Epoch 1/5\n",
      "3050/3050 [==============================] - 100s 33ms/step - loss: 0.0220 - f1_score: 0.9921\n",
      "Epoch 2/5\n",
      "3050/3050 [==============================] - 98s 32ms/step - loss: 0.0071 - f1_score: 0.9976\n",
      "Epoch 3/5\n",
      "3050/3050 [==============================] - 99s 32ms/step - loss: 0.0049 - f1_score: 0.9983\n",
      "Epoch 4/5\n",
      "3050/3050 [==============================] - 99s 32ms/step - loss: 0.0037 - f1_score: 0.9988\n",
      "Epoch 5/5\n",
      "3050/3050 [==============================] - 99s 32ms/step - loss: 0.0031 - f1_score: 0.9989\n"
     ]
    },
    {
     "name": "stderr",
     "output_type": "stream",
     "text": [
      "WARNING:absl:Found untraced functions such as _jit_compiled_convolution_op, _jit_compiled_convolution_op, _jit_compiled_convolution_op while saving (showing 3 of 3). These functions will not be directly callable after loading.\n"
     ]
    },
    {
     "name": "stdout",
     "output_type": "stream",
     "text": [
      "INFO:tensorflow:Assets written to: models/avf\\assets\n"
     ]
    },
    {
     "name": "stderr",
     "output_type": "stream",
     "text": [
      "INFO:tensorflow:Assets written to: models/avf\\assets\n"
     ]
    }
   ],
   "source": [
    "with open('preprocessed_data/full_train_y.pkl', 'rb') as f:\n",
    "    y = pickle.load(f)\n",
    "\n",
    "for lead in ['i', 'ii', 'v5', 'iii', 'avr', 'avl', 'avf']:\n",
    "    with open(f'preprocessed_data/full_train_{lead}.pkl', 'rb') as f:\n",
    "        X = pickle.load(f)\n",
    "        \n",
    "    X_train, y_train = resample_ts(X, y)\n",
    "    X_train = X_train.reshape(X_train.shape[0], X_train.shape[1], 1)\n",
    "    \n",
    "    ohe = OneHotEncoder(sparse=False)\n",
    "    y_train = ohe.fit_transform(y_train.reshape(-1, 1))\n",
    "    \n",
    "    print('OHE categories:', ohe.categories_)\n",
    "    print('Augmented data shape', X_train.shape)\n",
    "        \n",
    "    model = CNNModel().create_and_compile()\n",
    "    model.build(input_shape=(len(y_train), 1330, 1))\n",
    "    model.summary()\n",
    "\n",
    "    model.fit(\n",
    "        x=X_train,\n",
    "        y=y_train,\n",
    "        batch_size=128,\n",
    "        epochs=5\n",
    "    )\n",
    "\n",
    "    model.save(f'models/{lead}')"
   ]
  },
  {
   "cell_type": "code",
   "execution_count": null,
   "id": "d47ddaf4",
   "metadata": {},
   "outputs": [],
   "source": []
  }
 ],
 "metadata": {
  "kernelspec": {
   "display_name": "Python 3 (ipykernel)",
   "language": "python",
   "name": "python3"
  },
  "language_info": {
   "codemirror_mode": {
    "name": "ipython",
    "version": 3
   },
   "file_extension": ".py",
   "mimetype": "text/x-python",
   "name": "python",
   "nbconvert_exporter": "python",
   "pygments_lexer": "ipython3",
   "version": "3.9.13"
  }
 },
 "nbformat": 4,
 "nbformat_minor": 5
}
